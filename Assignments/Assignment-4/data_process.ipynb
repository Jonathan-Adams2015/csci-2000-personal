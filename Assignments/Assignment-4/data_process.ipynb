{
 "cells": [
  {
   "cell_type": "code",
   "execution_count": 86,
   "metadata": {
    "collapsed": false
   },
   "outputs": [],
   "source": [
    "import struct\n",
    "import matplotlib.pyplot as plt\n",
    "import numpy as np\n",
    "\n",
    "#Takes a filename of a file and a integer larger than the number of data entries in the file\n",
    "#Returns a (7,n) np array. Row 0 corresponds to the mass of the object, rows 1,2, and 3 correspond \n",
    "#to the x,y,z coordinates of the object, \n",
    "#Rows 4,5, and 6 correspond to to the x,y,z velocities of the object\n",
    "#Since expectMax > number of lines in the file, function returns an array with many 0 entries\n",
    "def readData(filename,expectMax):\n",
    "    #Opens the file, reads it to a string, and unpacks the first 2 lines\n",
    "    with open(filename, mode='rb') as file:\n",
    "        fileContent = file.read()\n",
    "        numBodies = struct.unpack('i',fileContent[:4])\n",
    "        time = struct.unpack('d',fileContent[4:12])\n",
    "        #Creates an array of zeroes to use later\n",
    "        data = np.zeros((7,expectMax))\n",
    "        \n",
    "        #This line essentially says, for every line after the first 2\n",
    "        for x in range (0,int((len(fileContent)/4)-12)):\n",
    "            #For every value in each line\n",
    "            for y in range(0,7):\n",
    "                #Check the number of bytes\n",
    "                buf = fileContent[(28*x+8*y)+12:(28*x+8*y)+16]\n",
    "                # I found that the last line would often be empty, and it would screw up the unpack\n",
    "                # That's why if the number of bytes isn't 4, I return the data \n",
    "                #(As it appears I've reached the end of the file)\n",
    "                # If number of bytes is 4, set the pertinent array entry to the value retrieved from the file\n",
    "                if len(buf) == 4:\n",
    "                    temp = struct.unpack('f',fileContent[(28*x+8*y)+12:(28*x+8*y)+16])\n",
    "                    data[y][x] = temp[0]\n",
    "                else :\n",
    "                    return data\n",
    "\n",
    "\n",
    "\n",
    "#Takes a numpy array to make a histogram of, and a string with which to name the histogram\n",
    "#Doesn't return a value, but creates a plot\n",
    "def plotVelocity(data, name):\n",
    "    #Initialize the list for the histogram\n",
    "    v = []\n",
    "    #For every column in data\n",
    "    for x in range(data.shape[1]):\n",
    "        # Usually there's a lot of zero entries in the recieved array, so this if statement weeds them out\n",
    "        # After all, an object with no mass isn't an object!\n",
    "        if (data[0][x] != 0):\n",
    "            sum = 0\n",
    "            #Adds each velocity component to the power of 2\n",
    "            for y in range(4,7):\n",
    "                sum += (float(data[y][x])**2)\n",
    "            #Then squares the result for the total velocity\n",
    "            v.append(sum**(1/2)) \n",
    "    \n",
    "    #Plot stuff\n",
    "    plt.hist(v, 50)\n",
    "    plt.title('Velocity Histogram ( ' + name + ' ) 100561416')\n",
    "    plt.xlabel(\"Velocity\")\n",
    "    plt.ylabel('Number of objects')\n",
    "    plt.show()\n",
    "\n",
    "    \n",
    "    \n",
    "    \n",
    "    \n",
    "    \n",
    "data_halo = readData(\"../../Large_Data/halo.dat\",100000)\n",
    "data_snapshot = readData(\"../../Large_Data/snapshot_010.dat\",10000000)\n",
    "\n",
    "    \n",
    "plotVelocity(data_halo, \"halo\")\n",
    "plotVelocity(data_snapshot, '010')"
   ]
  },
  {
   "cell_type": "code",
   "execution_count": null,
   "metadata": {
    "collapsed": true
   },
   "outputs": [],
   "source": []
  }
 ],
 "metadata": {
  "kernelspec": {
   "display_name": "Python 3",
   "language": "python",
   "name": "python3"
  },
  "language_info": {
   "codemirror_mode": {
    "name": "ipython",
    "version": 3
   },
   "file_extension": ".py",
   "mimetype": "text/x-python",
   "name": "python",
   "nbconvert_exporter": "python",
   "pygments_lexer": "ipython3",
   "version": "3.4.3"
  }
 },
 "nbformat": 4,
 "nbformat_minor": 0
}
