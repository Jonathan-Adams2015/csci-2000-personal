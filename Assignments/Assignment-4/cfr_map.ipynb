{
 "cells": [
  {
   "cell_type": "code",
   "execution_count": 3,
   "metadata": {
    "collapsed": false
   },
   "outputs": [],
   "source": [
    "import numpy as np\n",
    "import matplotlib.pyplot as plt\n",
    "import matplotlib.animation as animation\n",
    "from JSAnimation.IPython_display import display_animation\n",
    "from mpl_toolkits.basemap import Basemap\n",
    "\n",
    "\n",
    "\n",
    "def stripString(string):\n",
    "    toReturn = string.strip(\"/n\")\n",
    "    toReturn = toReturn.strip('\"')\n",
    "    return toReturn\n",
    "\n",
    "\n",
    "def plot_outbreak(string, colour):\n",
    "    file = open(\"Source_data_for_CFR_vaccine_map_abridged.csv\", \"r\")\n",
    "    data = np.zeros((400,3))\n",
    "    dummy = 0\n",
    "    for line in file:\n",
    "        temp = file.readline()\n",
    "        split = temp.split(\",\")\n",
    "        if split[0] == string:\n",
    "            data[dummy][0]= float(stripString(split[1]))\n",
    "            data[dummy][1]= float(stripString(split[2]))\n",
    "            data[dummy][2]= float(stripString(split[3]))\n",
    "            dummy += 1\n",
    "    \n",
    "    \n",
    "    fig = plt.figure(figsize=(14,10))\n",
    "    ax = plt.subplot(1,1,1)\n",
    "\n",
    "    earth = Basemap(projection='mill')\n",
    "    points = data.T\n",
    "    \n",
    "    x1,y1= earth(points[1],points[0])\n",
    "    maxMag = np.amax(points, axis = 1)\n",
    "    \n",
    "    ax.scatter(x1,y1,(5000*points[2]/(maxMag[2])),marker = 'o',color = colour, alpha = 0.4)\n",
    "    earth.drawcoastlines(color='0.50', linewidth=0.25)\n",
    "    earth.fillcontinents(color='0.95',zorder=0)\n",
    "    plt.title(string + \" outbreaks 100561416\")\n",
    "    plt.show()\n",
    "\n",
    "plot_outbreak(\"Measles\",'r')\n",
    "plot_outbreak(\"Rubella\", \"magenta\")\n",
    "plot_outbreak(\"Mumps\",\"green\")\n",
    "plot_outbreak(\"Polio\", 'blue')"
   ]
  },
  {
   "cell_type": "code",
   "execution_count": null,
   "metadata": {
    "collapsed": true
   },
   "outputs": [],
   "source": []
  },
  {
   "cell_type": "code",
   "execution_count": null,
   "metadata": {
    "collapsed": true
   },
   "outputs": [],
   "source": []
  }
 ],
 "metadata": {
  "kernelspec": {
   "display_name": "Python 3",
   "language": "python",
   "name": "python3"
  },
  "language_info": {
   "codemirror_mode": {
    "name": "ipython",
    "version": 3
   },
   "file_extension": ".py",
   "mimetype": "text/x-python",
   "name": "python",
   "nbconvert_exporter": "python",
   "pygments_lexer": "ipython3",
   "version": "3.4.3"
  }
 },
 "nbformat": 4,
 "nbformat_minor": 0
}
