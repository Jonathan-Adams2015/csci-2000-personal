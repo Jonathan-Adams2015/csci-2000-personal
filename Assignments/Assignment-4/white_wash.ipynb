{
 "cells": [
  {
   "cell_type": "code",
   "execution_count": 23,
   "metadata": {
    "collapsed": false
   },
   "outputs": [
    {
     "name": "stdout",
     "output_type": "stream",
     "text": [
      "[[ 0.84422619  0.16839427  0.20341666]\n",
      " [ 0.44872615  0.16103716  0.70405567]\n",
      " [ 0.71176258  0.16598972  0.22085038]\n",
      " [ 0.54980581  0.68202747  0.74988185]\n",
      " [ 0.1598318   0.68792788  0.69842765]\n",
      " [ 0.03601097  0.16831658  0.05953151]\n",
      " [ 0.12408201  0.59382736  0.33974833]\n",
      " [ 0.80680822  0.56938115  0.74345796]\n",
      " [ 0.12508795  0.92691252  0.72780823]\n",
      " [ 0.67937138  0.19197737  0.05383206]]\n",
      "[[ 0.92211309  0.58419713  0.60170833]\n",
      " [ 0.72436307  0.58051858  0.85202784]\n",
      " [ 0.85588129  0.58299486  0.61042519]\n",
      " [ 0.77490291  0.84101374  0.87494092]\n",
      " [ 0.5799159   0.84396394  0.84921382]\n",
      " [ 0.51800548  0.58415829  0.52976575]\n",
      " [ 0.562041    0.79691368  0.66987416]\n",
      " [ 0.90340411  0.78469057  0.87172898]\n",
      " [ 0.56254397  0.96345626  0.86390412]\n",
      " [ 0.83968569  0.59598868  0.52691603]]\n"
     ]
    }
   ],
   "source": [
    "import numpy as np\n",
    "\n",
    "\n",
    "def WhiteWash(matrix):\n",
    "    #Create new matrix, as to not change the old one\n",
    "    newMatrix = np.zeros((matrix.shape[0],3))\n",
    "    \n",
    "    #Checking for matrices of the wrong dimensions\n",
    "    if (matrix.shape[1] != 3):\n",
    "        print(\"Invalid Matrix\")\n",
    "        return matrix\n",
    "    \n",
    "    #Checking for matrices w/ invalid indices\n",
    "    for x in range(matrix.shape[0]):\n",
    "        for y in range(matrix.shape[1]):\n",
    "            if (0 > matrix[x][y] > 1):\n",
    "                print(\"Invalid Matrix\")\n",
    "                return matrix \n",
    "            \n",
    "    #Fills array w/ Whitewashed values        \n",
    "    for x in range(matrix.shape[0]):\n",
    "        for y in range(matrix.shape[1]):\n",
    "            newMatrix[x][y] = (matrix[x][y] + 1)/2\n",
    "    \n",
    "    return newMatrix\n",
    "    \n",
    "matrix = np.random.rand(10,3)\n",
    "print(matrix)\n",
    "print(WhiteWash(matrix))\n",
    "\n",
    "\n"
   ]
  },
  {
   "cell_type": "code",
   "execution_count": null,
   "metadata": {
    "collapsed": true
   },
   "outputs": [],
   "source": []
  }
 ],
 "metadata": {
  "kernelspec": {
   "display_name": "Python 3",
   "language": "python",
   "name": "python3"
  },
  "language_info": {
   "codemirror_mode": {
    "name": "ipython",
    "version": 3
   },
   "file_extension": ".py",
   "mimetype": "text/x-python",
   "name": "python",
   "nbconvert_exporter": "python",
   "pygments_lexer": "ipython3",
   "version": "3.4.3"
  }
 },
 "nbformat": 4,
 "nbformat_minor": 0
}
