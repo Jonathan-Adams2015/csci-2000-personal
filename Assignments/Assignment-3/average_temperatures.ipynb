{
 "cells": [
  {
   "cell_type": "code",
   "execution_count": 2,
   "metadata": {
    "collapsed": false
   },
   "outputs": [],
   "source": [
    "#Jonathan Adams 100561416\n",
    "\n",
    "import matplotlib.pyplot as plt\n",
    "\n",
    "\n",
    "#Takes the filename of the data as a string, returns a list of floats of the temperatures \n",
    "def tempList(filename):\n",
    "    file = open(filename, \"r\")\n",
    "    temperatures = []\n",
    "    #Read a line, check if it's blank, convert values to floats, add values to temperatures list, repeat\n",
    "    string = file.readline()\n",
    "    while string != \"\":\n",
    "        currentTemp = float(string[:-1])\n",
    "        temperatures.append(currentTemp)\n",
    "        string = file.readline()\n",
    "    return temperatures\n",
    "\n",
    "\n",
    "monthsInt = [1,2,3,4,5,6,7,8,9,10,11,12]\n",
    "monthsString = [\"Jan\", \"Feb\", \"Mar\", \"Apr\", \"May\", \"Jun\", \"Jul\", \"Aug\", \"Sep\", \"Oct\", \"Nov\", \"Dec\"]\n",
    "\n",
    "montreal_temps = tempList(\"../../data/Assignment-3/montreal_temperature_2012.dat\")\n",
    "toronto_temps = tempList(\"../../data/Assignment-3/toronto_temperature_2012.dat\")\n",
    "vancouver_temps = tempList(\"../../data/Assignment-3/vancouver_temperature_2012.dat\")\n",
    "\n",
    "plt.plot(monthsInt, montreal_temps, \"b\", label=\"Montreal\")\n",
    "plt.plot(monthsInt, vancouver_temps, \"r\", label = \"Vancouver\")\n",
    "plt.plot(monthsInt, toronto_temps, \"g\", label = \"Toronto\")\n",
    "plt.xticks(monthsInt, monthsString)\n",
    "plt.ylabel('Average Temperature (C)')\n",
    "plt.xlabel('Month')\n",
    "plt.title(\"2012 Average Monthly Temperatures(100561416)\")\n",
    "plt.legend(bbox_to_anchor=(1.05, 1), loc=1, borderaxespad=0.)\n",
    "plt.show()"
   ]
  },
  {
   "cell_type": "code",
   "execution_count": null,
   "metadata": {
    "collapsed": true
   },
   "outputs": [],
   "source": []
  },
  {
   "cell_type": "code",
   "execution_count": null,
   "metadata": {
    "collapsed": true
   },
   "outputs": [],
   "source": []
  },
  {
   "cell_type": "code",
   "execution_count": null,
   "metadata": {
    "collapsed": true
   },
   "outputs": [],
   "source": []
  }
 ],
 "metadata": {
  "kernelspec": {
   "display_name": "Python 3",
   "language": "python",
   "name": "python3"
  },
  "language_info": {
   "codemirror_mode": {
    "name": "ipython",
    "version": 3
   },
   "file_extension": ".py",
   "mimetype": "text/x-python",
   "name": "python",
   "nbconvert_exporter": "python",
   "pygments_lexer": "ipython3",
   "version": "3.4.3"
  }
 },
 "nbformat": 4,
 "nbformat_minor": 0
}
