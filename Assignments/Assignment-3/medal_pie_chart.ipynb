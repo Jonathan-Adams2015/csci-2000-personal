{
 "cells": [
  {
   "cell_type": "code",
   "execution_count": 13,
   "metadata": {
    "collapsed": false,
    "scrolled": true
   },
   "outputs": [],
   "source": [
    "import numpy as np\n",
    "import matplotlib.pyplot as plot\n",
    "\n",
    "labels = \"USA\", \"CHN\", \"GBR\", \"RUS\", \"KOR\", \"GER\", \"FRA\", \"ITA\", \"HUN\", \"AUS\", \"Other\"\n",
    "medals = [46,38, 29, 24, 13, 11, 11, 8, 8, 7, 107]\n",
    "colors = \"b\", \"darkred\", \"orange\", \"red\", \"lightblue\", \"yellow\", \"darkblue\", \"green\", \"white\", \"purple\", \"grey\"\n",
    "explode = [0.05, 0.05, 0.05, 0.05, 0.05, 0.05, 0.05, 0.05, 0.05, 0.05, 0.05]\n",
    "\n",
    "plot.pie(medals, explode=explode, labels=labels, colors=colors, shadow=True, autopct='%1.1f%%', startangle=90)\n",
    "plot.title(\"2012 Olympic gold medals (100561416)\")\n",
    "plot.show()"
   ]
  },
  {
   "cell_type": "code",
   "execution_count": null,
   "metadata": {
    "collapsed": true
   },
   "outputs": [],
   "source": []
  },
  {
   "cell_type": "code",
   "execution_count": null,
   "metadata": {
    "collapsed": true
   },
   "outputs": [],
   "source": []
  }
 ],
 "metadata": {
  "kernelspec": {
   "display_name": "Python 3",
   "language": "python",
   "name": "python3"
  },
  "language_info": {
   "codemirror_mode": {
    "name": "ipython",
    "version": 3
   },
   "file_extension": ".py",
   "mimetype": "text/x-python",
   "name": "python",
   "nbconvert_exporter": "python",
   "pygments_lexer": "ipython3",
   "version": "3.4.3"
  }
 },
 "nbformat": 4,
 "nbformat_minor": 0
}
