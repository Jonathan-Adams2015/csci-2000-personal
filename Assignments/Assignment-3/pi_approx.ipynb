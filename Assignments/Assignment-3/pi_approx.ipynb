{
 "cells": [
  {
   "cell_type": "code",
   "execution_count": 16,
   "metadata": {
    "collapsed": false
   },
   "outputs": [
    {
     "name": "stdout",
     "output_type": "stream",
     "text": [
      "When n = 10.000000 , rho_n = 3.252366\n",
      "When n = 10.000000 , tau_n = 3.039508\n",
      "When n = 10.000000 , mu_n = 3.141312\n",
      "When n = 100.000000 , rho_n = 3.151693\n",
      "When n = 100.000000 , tau_n = 3.131981\n",
      "When n = 100.000000 , mu_n = 3.141592\n",
      "When n = 1000.000000 , rho_n = 3.142594\n",
      "When n = 1000.000000 , tau_n = 3.140637\n",
      "When n = 1000.000000 , mu_n = 3.141593\n",
      "When n = 10000.000000 , rho_n = 3.141693\n",
      "When n = 10000.000000 , tau_n = 3.141497\n",
      "When n = 10000.000000 , mu_n = 3.141593\n",
      "When n = 100000.000000 , rho_n = 3.141603\n",
      "When n = 100000.000000 , tau_n = 3.141583\n",
      "When n = 100000.000000 , mu_n = 3.141593\n",
      "When n = 1000000.000000 , rho_n = 3.141594\n",
      "When n = 1000000.000000 , tau_n = 3.141592\n",
      "When n = 1000000.000000 , mu_n = 3.141593\n"
     ]
    },
    {
     "name": "stderr",
     "output_type": "stream",
     "text": [
      "/home/jon/anaconda3/lib/python3.4/site-packages/IPython/kernel/__main__.py:27: RuntimeWarning: invalid value encountered in power\n"
     ]
    }
   ],
   "source": [
    "#Jonathan Adams 100561416\n",
    "import numpy as np\n",
    "\n",
    "\n",
    "def rho_approx(n):\n",
    "    sum = 0\n",
    "    #sum product computed within for loop\n",
    "    for i in range(1,n):\n",
    "        sum += (np.power(-1,(i+1)))/((2*i)-1)\n",
    "    #outer portion of approximation computed\n",
    "    sum = 4*sum\n",
    "    print(\"When n = %f , rho_n = %f\" %(n,sum))\n",
    "    return (sum)\n",
    "\n",
    "def tau_approx(n):\n",
    "    sum = 0\n",
    "    #sum product computed within for loop\n",
    "    for i in range(1,n):\n",
    "        sum += 1/np.power(i,2)\n",
    "    #outer portion of approximation computed\n",
    "    sum = (np.power((6*sum),(1/2)))\n",
    "    print(\"When n = %f , tau_n = %f\" %(n,sum))\n",
    "    return sum\n",
    "\n",
    "def mu_approx(n):\n",
    "    sum = 0\n",
    "    #sum product computed within for loop\n",
    "    for i in range(1,n):\n",
    "        sum += 1/np.power(i,4)\n",
    "    #outer portion of approximation computed\n",
    "    sum = (np.power((90*sum),(1/4)))\n",
    "    print(\"When n = %f , mu_n = %f\" %(n,sum))\n",
    "    return sum\n",
    "\n",
    "\n",
    "\n",
    "for i in (10,100,1000,10000,100000,1000000):\n",
    "    rho_approx(i)\n",
    "    tau_approx(i)\n",
    "    mu_approx(i)"
   ]
  },
  {
   "cell_type": "code",
   "execution_count": null,
   "metadata": {
    "collapsed": true
   },
   "outputs": [],
   "source": []
  },
  {
   "cell_type": "code",
   "execution_count": null,
   "metadata": {
    "collapsed": true
   },
   "outputs": [],
   "source": []
  }
 ],
 "metadata": {
  "kernelspec": {
   "display_name": "Python 3",
   "language": "python",
   "name": "python3"
  },
  "language_info": {
   "codemirror_mode": {
    "name": "ipython",
    "version": 3
   },
   "file_extension": ".py",
   "mimetype": "text/x-python",
   "name": "python",
   "nbconvert_exporter": "python",
   "pygments_lexer": "ipython3",
   "version": "3.4.3"
  }
 },
 "nbformat": 4,
 "nbformat_minor": 0
}
