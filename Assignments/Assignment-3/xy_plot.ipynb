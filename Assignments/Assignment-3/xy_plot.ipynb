{
 "cells": [
  {
   "cell_type": "code",
   "execution_count": 26,
   "metadata": {
    "collapsed": false
   },
   "outputs": [
    {
     "ename": "TypeError",
     "evalue": "unorderable types: numpy.ndarray() <= int()",
     "output_type": "error",
     "traceback": [
      "\u001b[1;31m---------------------------------------------------------------------------\u001b[0m",
      "\u001b[1;31mTypeError\u001b[0m                                 Traceback (most recent call last)",
      "\u001b[1;32m<ipython-input-26-b5b9bea9f0a6>\u001b[0m in \u001b[0;36m<module>\u001b[1;34m()\u001b[0m\n\u001b[0;32m     36\u001b[0m \u001b[1;33m\u001b[0m\u001b[0m\n\u001b[0;32m     37\u001b[0m \u001b[0mtemp\u001b[0m \u001b[1;33m=\u001b[0m \u001b[0mnp\u001b[0m\u001b[1;33m.\u001b[0m\u001b[0marray\u001b[0m\u001b[1;33m(\u001b[0m\u001b[1;33m[\u001b[0m\u001b[1;33m]\u001b[0m\u001b[1;33m,\u001b[0m\u001b[0mfloat\u001b[0m\u001b[1;33m)\u001b[0m\u001b[1;33m\u001b[0m\u001b[0m\n\u001b[1;32m---> 38\u001b[1;33m \u001b[0mtemp\u001b[0m \u001b[1;33m=\u001b[0m \u001b[0myplot\u001b[0m\u001b[1;33m[\u001b[0m\u001b[0myplot\u001b[0m \u001b[1;33m<=\u001b[0m \u001b[1;36m0\u001b[0m\u001b[1;33m]\u001b[0m\u001b[1;33m\u001b[0m\u001b[0m\n\u001b[0m\u001b[0;32m     39\u001b[0m \u001b[1;33m\u001b[0m\u001b[0m\n\u001b[0;32m     40\u001b[0m \u001b[1;33m\u001b[0m\u001b[0m\n",
      "\u001b[1;31mTypeError\u001b[0m: unorderable types: numpy.ndarray() <= int()"
     ]
    }
   ],
   "source": [
    "#Jonathan Adams 100561416\n",
    "import numpy as np\n",
    "import matplotlib.pyplot as plt\n",
    "\n",
    "xplot = np.array([], float)\n",
    "yplot = np.array([], float)\n",
    "\n",
    "data = open(\"../../data/Assignment-3/xy_points.dat\", \"r\")\n",
    "\n",
    "#read x values from file, format and add floats to xplot, repeat for y values\n",
    "#Many dummy variables, only xplot and yplot will be used later on\n",
    "xValues = data.readline()\n",
    "newXValues = xValues.split(\"\\n\")\n",
    "stringXValues = newXValues[0].split(\" \")\n",
    "\n",
    "\n",
    "for string in stringXValues:\n",
    "    xplot = np.append(xplot, string)\n",
    "    \n",
    "yValues = data.readline()\n",
    "newYValues = yValues.split(\"\\n\")\n",
    "stringYValues = newYValues[0].split(\" \")\n",
    "\n",
    "for string in stringYValues:\n",
    "    yplot = np.append(yplot, string)\n",
    "    \n",
    "data.close()\n",
    "\n",
    "#blue plots are for the blue dots, green plots are for the green dots\n",
    "xplotblue = np.array([], float)\n",
    "yplotblue = np.array([], float)\n",
    "xplotgreen = np.array([], float)\n",
    "yplotgreen = np.array([], float)\n",
    "    \n",
    "#I can't get the logical indexing to work for me, so I'm using a while loop instead\n",
    "\n",
    "#temp = np.array([],float)\n",
    "#temp = yplot[yplot <= 0]\n",
    "# ^ Comparison fails if this block is run\n",
    "\n",
    "i = 0\n",
    "while (i<xplot.size):\n",
    "    #This part fills the blue plots, it's more cumbersome than with a 2d array and a for loop, but \n",
    "    #I couldn't think of a way to put the two plots into a 2d array without a similar while loop\n",
    "    if (float(xplot[i]) < -2):\n",
    "        if (-5 <= float(yplot[i]) <= 0):\n",
    "            xplotblue = np.append(xplotblue, xplot[i])\n",
    "            yplotblue = np.append(yplotblue, yplot[i])\n",
    "    \n",
    "    #This part of the while loop fills the green plots. \n",
    "    if(np.sqrt(np.power(float(xplot[i]),2)+np.power(float((yplot[i]))-5,2)) < 5):\n",
    "        xplotgreen = np.append(xplotgreen, xplot[i])\n",
    "        yplotgreen = np.append(yplotgreen, yplot[i])\n",
    "    \n",
    "    i += 1\n",
    "\n",
    "    \n",
    "\n",
    "plt.plot(xplot,yplot, 'ro')\n",
    "plt.plot(xplotblue,yplotblue, 'bo')\n",
    "plt.plot(xplotgreen,yplotgreen, 'go')\n",
    "plt.title(\"Highlighted points (100561416)\")\n",
    "plt.axis([-10, 10, -10, 10])\n",
    "plt.show()"
   ]
  },
  {
   "cell_type": "code",
   "execution_count": null,
   "metadata": {
    "collapsed": true
   },
   "outputs": [],
   "source": []
  },
  {
   "cell_type": "code",
   "execution_count": null,
   "metadata": {
    "collapsed": true
   },
   "outputs": [],
   "source": []
  }
 ],
 "metadata": {
  "kernelspec": {
   "display_name": "Python 3",
   "language": "python",
   "name": "python3"
  },
  "language_info": {
   "codemirror_mode": {
    "name": "ipython",
    "version": 3
   },
   "file_extension": ".py",
   "mimetype": "text/x-python",
   "name": "python",
   "nbconvert_exporter": "python",
   "pygments_lexer": "ipython3",
   "version": "3.4.3"
  }
 },
 "nbformat": 4,
 "nbformat_minor": 0
}
