{
 "cells": [
  {
   "cell_type": "code",
   "execution_count": null,
   "metadata": {
    "collapsed": false
   },
   "outputs": [],
   "source": [
    "\n",
    "def fib_inner(n):\n",
    "    if n == 0:\n",
    "        return(0)\n",
    "    if n == 1:\n",
    "        return(1)\n",
    "    return(fib_inner(n-1)+fib_inner(n-2))\n",
    "\n",
    "\n",
    "def fib_file(n,name):\n",
    "#Takes an integer and a filename and prints the fibonacci sequence to the file\n",
    "    if __debug__:\n",
    "        if n < 0:\n",
    "            raise AssertionError\n",
    "    n = int(n)\n",
    "    name = string(name)+\"_\"+string(n)+\".txt\"\n",
    "    file = open(name,'w')\n",
    "    file.writeline('       n     F_n')\n",
    "    \n",
    "    for i in range(0,n+1):\n",
    "        file.writeline('       '+i%\"       \"+fib_inner(i))\n",
    "    close(file)\n",
    "        \n",
    "\n",
    "\n"
   ]
  },
  {
   "cell_type": "code",
   "execution_count": null,
   "metadata": {
    "collapsed": true
   },
   "outputs": [],
   "source": []
  }
 ],
 "metadata": {
  "kernelspec": {
   "display_name": "Python 3",
   "language": "python",
   "name": "python3"
  },
  "language_info": {
   "codemirror_mode": {
    "name": "ipython",
    "version": 3
   },
   "file_extension": ".py",
   "mimetype": "text/x-python",
   "name": "python",
   "nbconvert_exporter": "python",
   "pygments_lexer": "ipython3",
   "version": "3.4.3"
  }
 },
 "nbformat": 4,
 "nbformat_minor": 0
}
