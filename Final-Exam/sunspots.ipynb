{
 "cells": [
  {
   "cell_type": "code",
   "execution_count": 26,
   "metadata": {
    "collapsed": false
   },
   "outputs": [
    {
     "name": "stdout",
     "output_type": "stream",
     "text": [
      "36052\n",
      "latest data\n",
      "[ 2015.        5.       31.     2015.411    17.        0.   ]\n",
      "Mean = 51.3198158216\n",
      "Median = 165.0\n"
     ]
    },
    {
     "ename": "NameError",
     "evalue": "name 'plt' is not defined",
     "output_type": "error",
     "traceback": [
      "\u001b[1;31m---------------------------------------------------------------------------\u001b[0m",
      "\u001b[1;31mNameError\u001b[0m                                 Traceback (most recent call last)",
      "\u001b[1;32m<ipython-input-26-a8357ddebb9e>\u001b[0m in \u001b[0;36m<module>\u001b[1;34m()\u001b[0m\n\u001b[0;32m     52\u001b[0m \u001b[0mprint\u001b[0m\u001b[1;33m(\u001b[0m\u001b[1;34m'Median = '\u001b[0m\u001b[1;33m+\u001b[0m\u001b[0mstr\u001b[0m\u001b[1;33m(\u001b[0m\u001b[0mmedian\u001b[0m\u001b[1;33m)\u001b[0m\u001b[1;33m)\u001b[0m\u001b[1;33m\u001b[0m\u001b[0m\n\u001b[0;32m     53\u001b[0m \u001b[1;33m\u001b[0m\u001b[0m\n\u001b[1;32m---> 54\u001b[1;33m \u001b[0mplot\u001b[0m \u001b[1;33m=\u001b[0m \u001b[0mplt\u001b[0m\u001b[1;33m(\u001b[0m\u001b[1;33m)\u001b[0m\u001b[1;33m\u001b[0m\u001b[0m\n\u001b[0m",
      "\u001b[1;31mNameError\u001b[0m: name 'plt' is not defined"
     ]
    }
   ],
   "source": [
    "%matplotlib inline\n",
    "import numpy as np\n",
    "\n",
    "def stripString(string):\n",
    "    toReturn = string.strip(\"/n\")\n",
    "    toReturn = toReturn.strip('\"')\n",
    "    return toReturn\n",
    "\n",
    "file = open('ISSN_D_tot.csv')\n",
    "#Create an array with more then enough space to hold the values\n",
    "data = np.zeros((50000,6))\n",
    "dummy = 0\n",
    "#For every line in the file\n",
    "for line in file:\n",
    "    #Read in a line, split it apart\n",
    "    temp = file.readline()\n",
    "    split = temp.split(\",\")\n",
    "    #And if the first entry matchs the search term, put entries 2,3, and 4 into the data\n",
    "\n",
    "    data[dummy][0]= float(stripString(split[0]))\n",
    "    data[dummy][1]= float(stripString(split[1]))\n",
    "    data[dummy][2]= float(stripString(split[2]))\n",
    "    data[dummy][3]= float(stripString(split[3]))\n",
    "    data[dummy][4]= float(stripString(split[4]))\n",
    "    data[dummy][5]= float(stripString(split[5]))\n",
    "    dummy += 1\n",
    "    \n",
    "print(dummy)\n",
    "file.close()\n",
    "#Latest Data\n",
    "print(\"latest data\")\n",
    "print(data[dummy-1])\n",
    "mean = 0\n",
    "median = 0\n",
    "std = 0\n",
    "medianList = []\n",
    "\n",
    "#What's the formula for standard deviations?\n",
    "\n",
    "for i in range(0,dummy):\n",
    "    mean += data[i][4]\n",
    "    medianList.append(data[i][4])\n",
    "\n",
    "median = 0\n",
    "mean = mean/dummy\n",
    "if(dummy%2 == 0):\n",
    "    median = (medianList[int(dummy/2)] + medianList[int(dummy/2)+1])\n",
    "else:\n",
    "    median = medianList[int(number/2)+1]\n",
    "    \n",
    "print('Mean = '+str(mean))\n",
    "print('Median = '+str(median))\n",
    "time = []\n",
    "\n",
    "    "
   ]
  },
  {
   "cell_type": "code",
   "execution_count": null,
   "metadata": {
    "collapsed": true
   },
   "outputs": [],
   "source": []
  },
  {
   "cell_type": "code",
   "execution_count": null,
   "metadata": {
    "collapsed": true
   },
   "outputs": [],
   "source": []
  }
 ],
 "metadata": {
  "kernelspec": {
   "display_name": "Python 3",
   "language": "python",
   "name": "python3"
  },
  "language_info": {
   "codemirror_mode": {
    "name": "ipython",
    "version": 3
   },
   "file_extension": ".py",
   "mimetype": "text/x-python",
   "name": "python",
   "nbconvert_exporter": "python",
   "pygments_lexer": "ipython3",
   "version": "3.4.3"
  }
 },
 "nbformat": 4,
 "nbformat_minor": 0
}
